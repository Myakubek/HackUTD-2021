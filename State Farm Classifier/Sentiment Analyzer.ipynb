{
 "cells": [
  {
   "cell_type": "code",
   "execution_count": 1,
   "metadata": {},
   "outputs": [],
   "source": [
    "#imports\n",
    "import nltk, nltk.data\n",
    "from nltk.sentiment import SentimentIntensityAnalyzer\n",
    "import matplotlib.pyplot as plt"
   ]
  },
  {
   "cell_type": "code",
   "execution_count": 2,
   "metadata": {},
   "outputs": [],
   "source": [
    "#Function to convert a list to string for stopword formatting/conversion\n",
    "def listToString(string): \n",
    "    str = \"\" \n",
    "    #Loop and add each element of list\n",
    "    for s in string: \n",
    "        str += s  \n",
    "        str += \" \"\n",
    "    return str "
   ]
  },
  {
   "cell_type": "code",
   "execution_count": 3,
   "metadata": {},
   "outputs": [],
   "source": [
    "#Gets a string, splits into a list and filters out stopwards, returns formatted string\n",
    "def removeStopwords(Text):\n",
    "    Text = textInput.split(\" \")                                  #Split text into seperated list\n",
    "    stopwords = nltk.corpus.stopwords.words(\"english\")           #import a list of stopwords from nltk\n",
    "    Text = [w for w in Text if w.lower() not in stopwords]       #Remove the stopwords from Text (becomes list of words)\n",
    "    return listToString(Text)"
   ]
  },
  {
   "cell_type": "code",
   "execution_count": 4,
   "metadata": {},
   "outputs": [],
   "source": [
    "#Use nltk's pre-trained sentiment analyzer (VADER) to analyze a given text\n",
    "def analyzeSentiment(Input):\n",
    "    sia = SentimentIntensityAnalyzer()    #Instantiate sentiment analyzer object\n",
    "    scores = sia.polarity_scores(Input)   #Returns a dictionary of sentiment scores\n",
    "    return scores"
   ]
  },
  {
   "cell_type": "code",
   "execution_count": 5,
   "metadata": {},
   "outputs": [],
   "source": [
    "#Gets a dictionary of scores from sentiment intensity analyzer and creates a pie chart of pos, neg, and neutral values\n",
    "def pieChart(scores):\n",
    "    labels = 'Negative', 'Neutral', 'Positive'\n",
    "    sizes = [scores.get('neg'), scores.get('neu'), scores.get('pos')]\n",
    "    fig1, ax1 = plt.subplots()\n",
    "    ax1.pie(sizes, labels = labels, autopct = '%1.1f%%', shadow = True, startangle=90, normalize=True)\n",
    "    ax1.axis('equal')\n",
    "    plt.show()"
   ]
  },
  {
   "cell_type": "code",
   "execution_count": 6,
   "metadata": {},
   "outputs": [],
   "source": [
    "#format the scores from the sentiment analyzer (given as dictioanry) to print the percentages of results\n",
    "def printScore(scores):\n",
    "    print('Negative:', format(scores.get('neg')*100, '.1f'), end = '% ')\n",
    "    print('Neutral:', format(scores.get('neu')*100, '.1f'), end = '% ')\n",
    "    print('Positive:', format(scores.get('pos')*100, '.1f'), end = '% ')\n",
    "    print('Compound:', format(scores.get('compound'), '.1f'))"
   ]
  },
  {
   "cell_type": "code",
   "execution_count": 7,
   "metadata": {},
   "outputs": [],
   "source": [
    "#Read in the file as a String, remove newlines and quotation marks\n",
    "with open('input.txt', 'r') as file:\n",
    "    tokenizer = nltk.data.load('tokenizers/punkt/english.pickle')    #algorithm to find sentence boundaries\n",
    "    textInput = file.read().replace('\\n', ' ').replace('\\\"', '')     #Get raw text, remove quotations and newlines\n",
    "    sentenceInput = tokenizer.tokenize(textInput)                    #detect and split sentences"
   ]
  },
  {
   "cell_type": "code",
   "execution_count": 8,
   "metadata": {},
   "outputs": [
    {
     "name": "stdout",
     "output_type": "stream",
     "text": [
      "Overall Sentiment Score of raw text\n",
      "Negative: 6.8% Neutral: 74.6% Positive: 18.6% Compound: 1.0\n"
     ]
    },
    {
     "data": {
      "image/png": "[encoded data removed]",
      "text/plain": [
       "<Figure size 432x288 with 1 Axes>"
      ]
     },
     "metadata": {},
     "output_type": "display_data"
    },
    {
     "name": "stdout",
     "output_type": "stream",
     "text": [
      "Overall Sentiment Score of text cleaned of stopwords\n",
      "Negative: 13.1% Neutral: 59.4% Positive: 27.4% Compound: 1.0\n"
     ]
    },
    {
     "data": {
      "image/png": "[encoded data removed]",
      "text/plain": [
       "<Figure size 432x288 with 1 Axes>"
      ]
     },
     "metadata": {},
     "output_type": "display_data"
    }
   ],
   "source": [
    "#Print and graph the resulting scores for raw text & text with stopwords removed\n",
    "print(\"Overall Sentiment Score of raw text\")\n",
    "myScore = analyzeSentiment(textInput)\n",
    "printScore(myScore)\n",
    "pieChart(myScore)\n",
    "\n",
    "print(\"Overall Sentiment Score of text cleaned of stopwords\")\n",
    "myScore = analyzeSentiment(removeStopwords(textInput))\n",
    "printScore(myScore)\n",
    "pieChart(myScore)"
   ]
  },
  {
   "cell_type": "code",
   "execution_count": 9,
   "metadata": {},
   "outputs": [
    {
     "name": "stdout",
     "output_type": "stream",
     "text": [
      "-----Sentiment by Sentence-----\n",
      "\n",
      "Sentiment of sentence:  Stop blushing.\n",
      "Negative: 68.8% Neutral: 31.2% Positive: 0.0% Compound: -0.3\n",
      "\n",
      "Sentiment of sentence:  I'm not needling, really I'm not.\n",
      "Negative: 0.0% Neutral: 100.0% Positive: 0.0% Compound: 0.0\n",
      "\n",
      "Sentiment of sentence:  Do you know, I had a dream an hour ago.\n",
      "Negative: 0.0% Neutral: 77.8% Positive: 22.2% Compound: 0.2\n",
      "\n",
      "Sentiment of sentence:  I lay down for a cat-nap and in this dream you and I, Montag, got into a furious debate on books.\n",
      "Negative: 16.9% Neutral: 72.9% Positive: 10.3% Compound: -0.4\n",
      "\n",
      "Sentiment of sentence:  You towered with rage, yelled quotes at me.\n",
      "Negative: 34.0% Neutral: 66.0% Positive: 0.0% Compound: -0.6\n",
      "\n",
      "Sentiment of sentence:  I calmly parried every thrust.\n",
      "Negative: 0.0% Neutral: 56.6% Positive: 43.4% Compound: 0.3\n",
      "\n",
      "Sentiment of sentence:  Power, I said, And you, quoting Dr. Johnson, said `Knowledge is more than equivalent to force!'\n",
      "Negative: 0.0% Neutral: 100.0% Positive: 0.0% Compound: 0.0\n",
      "\n",
      "Sentiment of sentence:  And I said, `Well, Dr. Johnson also said, dear boy, that He is no wise man that will quit a certainty for an uncertainty.'\n",
      "Negative: 7.9% Neutral: 64.5% Positive: 27.6% Compound: 0.7\n",
      "\n",
      "Sentiment of sentence:  Stick with the fireman, Montag.\n",
      "Negative: 0.0% Neutral: 100.0% Positive: 0.0% Compound: 0.0\n",
      "\n",
      "Sentiment of sentence:  All else is dreary chaos!\n",
      "Negative: 68.1% Neutral: 31.9% Positive: 0.0% Compound: -0.8\n",
      "\n",
      "Sentiment of sentence:  Don't listen, whispered Faber.\n",
      "Negative: 0.0% Neutral: 100.0% Positive: 0.0% Compound: 0.0\n",
      "\n",
      "Sentiment of sentence:  He's trying to confuse.\n",
      "Negative: 38.8% Neutral: 61.2% Positive: 0.0% Compound: -0.2\n",
      "\n",
      "Sentiment of sentence:  He's slippery.\n",
      "Negative: 0.0% Neutral: 100.0% Positive: 0.0% Compound: 0.0\n",
      "\n",
      "Sentiment of sentence:  Watch out!\n",
      "Negative: 0.0% Neutral: 100.0% Positive: 0.0% Compound: 0.0\n",
      "\n",
      "Sentiment of sentence:  Beatty chuckled.\n",
      "Negative: 0.0% Neutral: 31.2% Positive: 68.8% Compound: 0.3\n",
      "\n",
      "Sentiment of sentence:  And you said, quoting, `Truth will come to light, murder will not be hid long!'\n",
      "Negative: 25.9% Neutral: 67.4% Positive: 6.7% Compound: -0.7\n",
      "\n",
      "Sentiment of sentence:  And I cried in good humour, 'Oh God, he speaks only of his horse!'\n",
      "Negative: 13.0% Neutral: 45.0% Positive: 42.0% Compound: 0.7\n",
      "\n",
      "Sentiment of sentence:  And `The Devil can cite Scripture for his purpose.'\n",
      "Negative: 35.5% Neutral: 64.5% Positive: 0.0% Compound: -0.7\n",
      "\n",
      "Sentiment of sentence:  And you yelled, 'This age thinks better of a gilded fool, than of a threadbare saint in wisdom's school!'\n",
      "Negative: 13.9% Neutral: 72.1% Positive: 13.9% Compound: 0.0\n",
      "\n",
      "Sentiment of sentence:  And I whispered gently, 'The dignity of truth is lost with much protesting.'\n",
      "Negative: 12.6% Neutral: 43.7% Positive: 43.7% Compound: 0.7\n",
      "\n",
      "Sentiment of sentence:  And you screamed, 'Carcasses bleed at the sight of the murderer!'\n",
      "Negative: 20.6% Neutral: 79.4% Positive: 0.0% Compound: -0.4\n",
      "\n",
      "Sentiment of sentence:  And I said, patting your hand, 'What, do I give you trench mouth?'\n",
      "Negative: 0.0% Neutral: 75.8% Positive: 24.2% Compound: 0.5\n",
      "\n",
      "Sentiment of sentence:  And you shrieked, 'Knowledge is power!'\n",
      "Negative: 0.0% Neutral: 100.0% Positive: 0.0% Compound: 0.0\n",
      "\n",
      "Sentiment of sentence:  and 'A dwarf on a giant's shoulders of the furthest of the two!'\n",
      "Negative: 0.0% Neutral: 100.0% Positive: 0.0% Compound: 0.0\n",
      "\n",
      "Sentiment of sentence:  and I summed my side up with rare serenity in, 'The folly of mistaking a metaphor for a proof, a torrent of verbiage for a spring of capital truths, and oneself as an oracle, is inborn in us, Mr. Valery once said.'\n",
      "Negative: 5.3% Neutral: 87.7% Positive: 7.0% Compound: 0.2\n",
      "\n",
      "Sentiment of sentence:  I think you may like to know something of his person and character.\n",
      "Negative: 0.0% Neutral: 81.5% Positive: 18.5% Compound: 0.4\n",
      "\n",
      "Sentiment of sentence:  He  had an excellent constitution of body, was of middle stature, but well set,  and very strong; he was ingenious, could draw prettily, was skilled a little  in music, and had a clear, pleasing voice, so that when he played psalm tunes  on his violin and sung withal, as he sometimes did in an evening after  the business of the day was over, it was extremely agreeable to hear.\n",
      "Negative: 0.0% Neutral: 70.5% Positive: 29.5% Compound: 1.0\n",
      "\n",
      "Sentiment of sentence:  He had  a mechanical genius too, and, on occasion, was very handy in the use of other  tradesmen's tools; but his great excellence lay in a sound understanding and  solid judgment in prudential matters, both in private and publick affairs.\n",
      "Negative: 0.0% Neutral: 70.3% Positive: 29.7% Compound: 0.9\n",
      "\n",
      "Sentiment of sentence:  In the latter, indeed, he was never employed, the numerous family he had to  educate and the straitness of his circumstances keeping him close to his trade;  but I remember well his being frequently visited by leading people, who  consulted him for his opinion in affairs of the town or of the church he  belonged to, and showed a good deal of respect for his judgment and advice:  he was also much consulted by private persons about their affairs when any difficulty  occurred, and frequently chosen an arbitrator between contending parties.\n",
      "Negative: 3.1% Neutral: 82.9% Positive: 14.0% Compound: 0.9\n",
      "\n",
      "Sentiment of sentence:  At his table he liked to have, as often as he could, some sensible friend or  neighbor to converse with, and always took care to start some ingenious or useful  topic for discourse, which might tend to improve the minds of his children.\n",
      "Negative: 0.0% Neutral: 71.7% Positive: 28.3% Compound: 0.9\n",
      "\n",
      "Sentiment of sentence:  By this means he turned our attention to what was good, just, and prudent in  the conduct of life; and little or no notice was ever taken of what related to  the victuals on the table, whether it was well or ill dressed, in or out of season,  of good or bad flavor, preferable or inferior to this or that other thing  of the kind, so that I was bro't up in such a perfect inattention to those matters  as to be quite indifferent what kind of food was set before me, and so unobservant of  it, that to this day if I am asked I can scarce tell a few hours after dinner  what I dined upon.\n",
      "Negative: 9.8% Neutral: 75.5% Positive: 14.7% Compound: 0.8\n",
      "\n",
      "Sentiment of sentence:  This has been a convenience to me in traveling, where my  companions have been sometimes very unhappy for want of a suitable gratification  of their more delicate, because better instructed, tastes and appetites.\n",
      "Negative: 8.2% Neutral: 68.6% Positive: 23.3% Compound: 0.6\n",
      "\n"
     ]
    }
   ],
   "source": [
    "#Iteratively display sentiment scores for each sentence\n",
    "print(\"-----Sentiment by Sentence-----\\n\")\n",
    "for i in sentenceInput:\n",
    "    print(\"Sentiment of sentence: \", i)\n",
    "    printScore(analyzeSentiment(i))\n",
    "    print()"
   ]
  },
  {
   "cell_type": "code",
   "execution_count": null,
   "metadata": {},
   "outputs": [],
   "source": []
  }
 ],
 "metadata": {
  "kernelspec": {
   "display_name": "Python 3",
   "language": "python",
   "name": "python3"
  },
  "language_info": {
   "codemirror_mode": {
    "name": "ipython",
    "version": 3
   },
   "file_extension": ".py",
   "mimetype": "text/x-python",
   "name": "python",
   "nbconvert_exporter": "python",
   "pygments_lexer": "ipython3",
   "version": "3.8.5"
  }
 },
 "nbformat": 4,
 "nbformat_minor": 4
}
